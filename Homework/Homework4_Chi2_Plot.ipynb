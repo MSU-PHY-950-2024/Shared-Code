{
 "cells": [
  {
   "cell_type": "code",
   "execution_count": 1,
   "id": "60e681ba-ec33-4c70-8a26-4900db6c0fc6",
   "metadata": {},
   "outputs": [],
   "source": [
    "from ROOT import TH1D,TStyle,TCanvas,TFile,gStyle,TLegend\n",
    "\n",
    "def h1_style(h1, title): #make the plots pretty\n",
    "    h1.GetXaxis().SetTitle(\"X\")\n",
    "    h1.GetYaxis().SetTitle(\"N(X)\")\n",
    "    h1.GetXaxis().SetTitleSize(0.05)\n",
    "    h1.GetYaxis().SetTitleSize(0.05)\n",
    "    \n",
    "    h1.GetXaxis().SetLabelSize(0.04)\n",
    "    h1.GetYaxis().SetLabelSize(0.04)\n",
    "    h1.SetTitle(title)\n",
    "    \n",
    "    h1.SetMaximum(1.25*h1.GetMaximum())\n"
   ]
  },
  {
   "cell_type": "code",
   "execution_count": 2,
   "id": "8a9daf8e-4a52-420f-8cb6-b4bf70f4f525",
   "metadata": {},
   "outputs": [
    {
     "name": "stdout",
     "output_type": "stream",
     "text": [
      "Integral H1: 1820.0000000000002, Integral H2: 1892.8000000000009\n",
      "\n",
      "Histogram Bin Contents:\n",
      "\n",
      "Format: <bin number> <h1 bin content> <h2 bin content> <data bin content>\n",
      "Bin 1: 142.64 142.94 137\n",
      "Bin 2: 136.84 136.85 133\n",
      "Bin 3: 131.23 131.15 116\n",
      "Bin 4: 125.38 125.16 124\n",
      "Bin 5: 119.46 119.48 114\n",
      "Bin 6: 113.40 113.39 109\n",
      "Bin 7: 107.74 107.99 99\n",
      "Bin 8: 101.61 101.77 103\n",
      "Bin 9: 96.42 96.72 102\n",
      "Bin 10: 90.19 93.14 78\n",
      "Bin 11: 84.32 92.36 99\n",
      "Bin 12: 78.73 93.94 94\n",
      "Bin 13: 72.74 91.68 98\n",
      "Bin 14: 66.97 82.17 75\n",
      "Bin 15: 61.21 69.33 61\n",
      "Bin 16: 55.25 58.04 64\n",
      "Bin 17: 49.49 50.24 49\n",
      "Bin 18: 43.77 43.76 33\n",
      "Bin 19: 37.83 37.79 32\n",
      "Bin 20: 31.99 32.05 31\n",
      "Bin 21: 26.19 26.19 26\n",
      "Bin 22: 20.34 20.28 15\n",
      "Bin 23: 14.56 14.67 18\n",
      "Bin 24: 8.70 8.78 9\n",
      "Bin 25: 2.98 2.92 1\n"
     ]
    },
    {
     "name": "stderr",
     "output_type": "stream",
     "text": [
      "Info in <TCanvas::Print>: jpg file myPlot.jpg has been created\n"
     ]
    },
    {
     "data": {
      "image/png": "[encoded data removed]",
      "text/plain": [
       "<IPython.core.display.Image object>"
      ]
     },
     "metadata": {},
     "output_type": "display_data"
    }
   ],
   "source": [
    "# Tell ROOT to not plot the statistics box on the histograms  \n",
    "gStyle.SetOptStat(0);\n",
    "\n",
    "# Open the file with the histograms                                                                                \n",
    "fin = TFile(\"hw4_chi2.root\",\"READ\")\n",
    "\n",
    "# Extract histograms     \n",
    "h1 = fin.Get(\"Hypothesis 1\")\n",
    "h2 = fin.Get(\"Hypothesis 2\")\n",
    "data = fin.Get(\"Data\")\n",
    "\n",
    "# Set the data style with error bars\n",
    "data.SetLineColor(1);\n",
    "data.SetMarkerStyle(22);\n",
    "data.SetMarkerSize(1);\n",
    "\n",
    "# Adjust the style of the first histogram to be plotted   \n",
    "h1_style(h1,\"\")\n",
    "\n",
    "# Reduce the number of bins from 100 to 25    \n",
    "rebinFactor = 4;\n",
    "data.Rebin(rebinFactor);\n",
    "h1.Rebin(rebinFactor);\n",
    "h2.Rebin(rebinFactor);\n",
    "\n",
    "# Normalize hypotheses to the data integral     \n",
    "h1.Scale(data.Integral())\n",
    "h2.Scale(data.Integral())\n",
    "\n",
    "# Report integrals\n",
    "print(\"Integral H1: {0}, Integral H2: {1}\".format(h1.Integral(),h2.Integral()))\n",
    "\n",
    "# print out contents of each bin of each histogram     \n",
    "if True:\n",
    "    print(\"\\nHistogram Bin Contents:\")\n",
    "    print(\"\\nFormat: <bin number> <h1 bin content> <h2 bin content> <data bin content>\")\n",
    "    for i in range(1,h1.GetNbinsX()+1):\n",
    "        print(\"Bin {}: {:.2f} {:.2f} {:.0f}\".format(i, h1.GetBinContent(i), h2.GetBinContent(i), data.GetBinContent(i)));\n",
    "\n",
    "\n",
    "\n",
    "# Now make a plot!\n",
    "leg = TLegend(0.65,0.6, 0.95, 0.85)\n",
    "leg.AddEntry(h1, \"Hypothesis 1\")\n",
    "leg.AddEntry(h2, \"Hypothesis 2\")\n",
    "leg.AddEntry(data, \"Data\")\n",
    "leg.SetFillColor(0)\n",
    "\n",
    "c1 = TCanvas(\"c1\",\"c1\")\n",
    "h1.Draw()\n",
    "h2.Draw(\"same\")\n",
    "data.Draw(\"PEsame\")\n",
    "c1.SetLeftMargin(0.11)\n",
    "c1.SetBottomMargin(0.11)\n",
    "c1.SetTopMargin(0.035)\n",
    "c1.SetRightMargin(0.035)\n",
    "leg.Draw(\"same\")\n",
    "c1.Draw()\n",
    "c1.Print(\"myPlot.jpg\")"
   ]
  }
 ],
 "metadata": {
  "kernelspec": {
   "display_name": "Python 3 (ipykernel)",
   "language": "python",
   "name": "python3"
  },
  "language_info": {
   "codemirror_mode": {
    "name": "ipython",
    "version": 3
   },
   "file_extension": ".py",
   "mimetype": "text/x-python",
   "name": "python",
   "nbconvert_exporter": "python",
   "pygments_lexer": "ipython3",
   "version": "3.12.7"
  }
 },
 "nbformat": 4,
 "nbformat_minor": 5
}
