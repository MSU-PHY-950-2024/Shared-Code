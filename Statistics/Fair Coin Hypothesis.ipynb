{
 "cells": [
  {
   "cell_type": "code",
   "execution_count": 1,
   "id": "7c3436fe-3465-4acb-9f07-15e77191b4ea",
   "metadata": {},
   "outputs": [],
   "source": [
    "import numpy as np\n",
    "import math as math\n",
    "import matplotlib.pyplot as plt"
   ]
  },
  {
   "cell_type": "markdown",
   "id": "3b4b4f8a-7aa9-4cbf-a83a-09bcef904e8d",
   "metadata": {},
   "source": [
    "# Testing the Fair Coin Hypothesis\n",
    "\n",
    "In this example, we'll test the hypothesis that a given coin is fair, meaning that it has a 50% probability to land on either side when flipped.\n",
    "\n",
    "Let's assume that we are performing an experiment in which we toss a coin 100 times, for which we would expect ON AVERAGE 50 heads and 50 tails.  We know this because the expectation value for the number of heads (for example) is $$E[n] = \\sum_0^N n\\;f(n;N,p) = Np$$ where $N$ is the number of trials and $p$ is the probability of success.  However, we also know that the variance of the distribution of expected outcomes is: $$V[n] = E[n^2] -(E[n])^2 = N p (1-p)$$, which takes the value of $100(0.5)(0.5)=25$ for $N=100$ and $p=0.5$.  That means that 68.3% of all outcomes for this test should lie within $45 < n < 55$."
   ]
  },
  {
   "cell_type": "code",
   "execution_count": 2,
   "id": "830061fb-8a8f-4057-9f57-f2f67cf6ddcb",
   "metadata": {},
   "outputs": [
    {
     "data": {
      "image/png": "[encoded data removed]",
      "text/plain": [
       "<Figure size 640x480 with 1 Axes>"
      ]
     },
     "metadata": {},
     "output_type": "display_data"
    }
   ],
   "source": [
    "# Let's make a set of 100 coin flip experiments with a fair coin\n",
    "# We'll repeat the expreiment 100k times so we can see the distribution\n",
    "outcomes = np.random.binomial(100,0.5,100000)\n",
    "\n",
    "plt.hist(outcomes,100)\n",
    "plt.show()"
   ]
  },
  {
   "cell_type": "markdown",
   "id": "b273f942-f343-44fd-bc9a-e85477410e10",
   "metadata": {},
   "source": [
    "### Let's turn this into a hypothesis test\n",
    "\n",
    "Assume that you were handed a coin and were asked to determine if it was fair or not.  You immediately cut the coin directly down the middle and weigh each piece of the coin to the microgram, expecting each side to be equal in mass.  Staring at the small pile of metal filings left on the ground from the cutting process, you become aware that you don't know if an equal amount came from each side of the coin.  You're now left with two half-coins and a pile of metal dust, and you realize that you've failed the assignment.  \n",
    "\n",
    "In a parallel universe, doppleganger you had taken a course on statistical methods and you know that the better choice would be to build a hypothesis test.  Knowing that you cannot determine the coin is air to 100% certainty, you ask the owner of the coin how certain they'd like your answer to be.  They answer 95% certain that it's fair and add that they'd like to know the largest degree of unfairness the coin could possess and still be determined to be fair with a probability of 5%.\n",
    "\n",
    "The obvious answer: a hypothesis test!  You've learned all the details you need to know about the test:\n",
    "\n",
    "1-- The size of the test (aka, significance level or Type-1 Error rate or false exclusion rate) is 5%.  Because you know the formula for the binomial probability distribution: $$ f(n ; N,p) = {N! \\over n! (N-n)!} p^n (1-p)^{N-n}$$ you can simply sum probabilities above n=X until you find the integral to be 5%.  This is the number of heads in 100 tosses beyond at which you would conclude that the coin is unfair.\n",
    "\n",
    "2-- You need to find the largest unfair heads probability ($p_H^\\prime$) that would give a test power of 95% (ie, the Type-2 error rate is 5%).  To do so, you now need to solve for the value $p_H^\\prime$ that yields an integral below N=X that is equal to 5%.  This is the largest unfair heads probability that could be accepted by your hypothesis test."
   ]
  },
  {
   "cell_type": "code",
   "execution_count": 3,
   "id": "037feec2-9b96-4d58-ae73-173e6c998366",
   "metadata": {},
   "outputs": [
    {
     "name": "stdout",
     "output_type": "stream",
     "text": [
      "i:  100 , prob:  7.888609052210118e-31 , totProb:  7.888609052210118e-31\n",
      "i:  99 , prob:  7.888609052210118e-29 , totProb:  7.967495142732219e-29\n",
      "i:  98 , prob:  3.9048614808440084e-27 , totProb:  3.9845364322713306e-27\n",
      "i:  97 , prob:  1.275588083742376e-25 , totProb:  1.3154334480650894e-25\n",
      "i:  96 , prob:  3.093301103075262e-24 , totProb:  3.224844447881771e-24\n",
      "i:  95 , prob:  5.939138117904503e-23 , totProb:  6.26162256269268e-23\n",
      "i:  94 , prob:  9.403635353348797e-22 , totProb:  1.0029797609618065e-21\n",
      "i:  93 , prob:  1.2627738903068384e-20 , totProb:  1.363071866403019e-20\n",
      "i:  92 , prob:  1.4679746474816996e-19 , totProb:  1.6042818341220015e-19\n",
      "i:  91 , prob:  1.5005963063146263e-18 , totProb:  1.6610244897268264e-18\n",
      "i:  90 , prob:  1.3655426387463099e-17 , totProb:  1.5316450877189926e-17\n",
      "i:  89 , prob:  1.1172621589742536e-16 , totProb:  1.2704266677461528e-16\n",
      "i:  88 , prob:  8.286361012392381e-16 , totProb:  9.556787680138533e-16\n",
      "i:  87 , prob:  5.609228993004073e-15 , totProb:  6.5649077610179264e-15\n",
      "i:  86 , prob:  3.4857351599382454e-14 , totProb:  4.142225936040038e-14\n",
      "i:  85 , prob:  1.998488158364594e-13 , totProb:  2.412710751968598e-13\n",
      "i:  84 , prob:  1.0616968341311906e-12 , totProb:  1.3029679093280504e-12\n",
      "i:  83 , prob:  5.246031415707059e-12 , totProb:  6.548999325035109e-12\n",
      "i:  82 , prob:  2.4190033750204773e-11 , totProb:  3.073903307523988e-11\n",
      "i:  81 , prob:  1.0439909302719954e-10 , totProb:  1.3513812610243942e-10\n",
      "i:  80 , prob:  4.2281632676015815e-10 , totProb:  5.579544528625976e-10\n",
      "i:  79 , prob:  1.6107288638482216e-09 , totProb:  2.168683316710819e-09\n",
      "i:  78 , prob:  5.78398092018225e-09 , totProb:  7.95266423689307e-09\n",
      "i:  77 , prob:  1.9615239642357197e-08 , totProb:  2.7567903879250267e-08\n",
      "i:  76 , prob:  6.2932227185896e-08 , totProb:  9.050013106514628e-08\n",
      "i:  75 , prob:  1.9131397064512386e-07 , totProb:  2.8181410171027017e-07\n",
      "i:  74 , prob:  5.518672230147804e-07 , totProb:  8.336813247250505e-07\n",
      "i:  73 , prob:  1.5125249815960647e-06 , totProb:  2.346206306321115e-06\n",
      "i:  72 , prob:  3.9433687020183116e-06 , totProb:  6.289575008339427e-06\n",
      "i:  71 , prob:  9.790432639493739e-06 , totProb:  1.6080007647833168e-05\n",
      "i:  70 , prob:  2.3170690580135184e-05 , totProb:  3.9250698227968355e-05\n",
      "i:  69 , prob:  5.232091421320847e-05 , totProb:  9.157161244117683e-05\n",
      "i:  68 , prob:  0.00011281697127223077 , totProb:  0.0002043885837134076\n",
      "i:  67 , prob:  0.00023247133474277857 , totProb:  0.00043685991845618616\n",
      "i:  66 , prob:  0.00045810527728724014 , totProb:  0.0008949651957434263\n",
      "i:  65 , prob:  0.0008638556657416528 , totProb:  0.0017588208614850792\n",
      "i:  64 , prob:  0.0015597393964779842 , totProb:  0.003318560257963063\n",
      "i:  63 , prob:  0.0026979276047186754 , totProb:  0.006016487862681739\n",
      "i:  62 , prob:  0.00447287997624412 , totProb:  0.010489367838925859\n",
      "i:  61 , prob:  0.00711073226992655 , totProb:  0.017600100108852407\n",
      "i:  60 , prob:  0.010843866711637987 , totProb:  0.028443966820490392\n",
      "i:  59 , prob:  0.015869073236543397 , totProb:  0.04431304005703379\n",
      "i:  58 , prob:  0.022292269546572867 , totProb:  0.06660530960360667\n"
     ]
    }
   ],
   "source": [
    "## Let's solve for the largest number of heads we would accept as fair\n",
    "## This is an arbitrary number, depending on how you set the size of the test.\n",
    "## Let's do this via the brute force and awkwardness approach, in which we'll simply calculate probabilities\n",
    "\n",
    "def binomial(n,N,p):\n",
    "    combo = math.factorial(N) / (math.factorial(n)*math.factorial(N-n))\n",
    "    power1 = np.power(p,n)\n",
    "    power2 = np.power(1-p,N-n)\n",
    "    return combo*power1*power2\n",
    "\n",
    "totalProb = 0\n",
    "maxN = 0\n",
    "size = 0.05\n",
    "for i in range(101):\n",
    "    totalProb += binomial(100-i,100,0.50)\n",
    "    print(\"i: \",100-i, \", prob: \",binomial(100-i,100,0.50), \", totProb: \",totalProb)\n",
    "    maxN = 100-i\n",
    "    if totalProb >= size:\n",
    "        break\n",
    "\n"
   ]
  },
  {
   "cell_type": "markdown",
   "id": "1b30ad2c-cfc7-498d-9666-7022a994c9ca",
   "metadata": {},
   "source": [
    "### We couldn't find exactly 5%\n",
    "\n",
    "This is clearly because the binomial PDF is discrete.  So we have to choose either a test size of 4.43% or 6.66%.  The spirit of the question requires 95%, which is not satisfied by $n=58$ for which the test size would be 93.34%.  So we will use n=59, meaning that if we find more than $n=59$ heads in a sample of 100 coin tosses, we will reject the hypothesis that the coin is fair and accept the alternative hypothesis that it is unfair."
   ]
  },
  {
   "cell_type": "code",
   "execution_count": 11,
   "id": "659b0a11-6ff1-4392-8a53-655e3c146544",
   "metadata": {},
   "outputs": [
    {
     "name": "stdout",
     "output_type": "stream",
     "text": [
      "max probability =  0.6731\n"
     ]
    }
   ],
   "source": [
    "## Now let's find the value of p-prime that gives at most a 5% chance of being accepted as fair.\n",
    "\n",
    "\n",
    "maxN = 0\n",
    "size = 0.05\n",
    "precision = 10000 # we'll know the answer to 1 part in this number\n",
    "maxProb = 1\n",
    "doPrint = False\n",
    "for p in range(precision):\n",
    "    maxProb = 0.50+1.0*p/precision\n",
    "    totalProb = 0\n",
    "    for i in range(59+1):\n",
    "        totalProb += binomial(i,100,maxProb)\n",
    "    if doPrint:\n",
    "        print(\"prob: \",maxProb, \" , totalProb: \",totalProb)\n",
    "    if totalProb <= size:\n",
    "        break\n",
    "\n",
    "print(\"max probability = \",maxProb)"
   ]
  },
  {
   "cell_type": "code",
   "execution_count": 18,
   "id": "c47c9661-7cb5-4f79-956a-6a2261bc9b1e",
   "metadata": {},
   "outputs": [
    {
     "data": {
      "image/png": "[encoded data removed]",
      "text/plain": [
       "<Figure size 640x480 with 1 Axes>"
      ]
     },
     "metadata": {},
     "output_type": "display_data"
    }
   ],
   "source": [
    "outcomesFair = np.random.binomial(100,0.5,100000)\n",
    "outcomesUnFair = np.random.binomial(100,maxProb,100000)\n",
    "\n",
    "plt.hist(outcomesFair,200,label=\"Fair\")\n",
    "plt.hist(outcomesUnFair,200,label=\"UnFair\")\n",
    "plt.axvline(x=59, color='r', linestyle='dashed', linewidth=1.5,label=\"n=59\")\n",
    "plt.legend()\n",
    "plt.show()"
   ]
  },
  {
   "cell_type": "code",
   "execution_count": null,
   "id": "025a5fa4-e8f3-472d-8234-0bec04638c31",
   "metadata": {},
   "outputs": [],
   "source": []
  }
 ],
 "metadata": {
  "kernelspec": {
   "display_name": "Python 3 (ipykernel)",
   "language": "python",
   "name": "python3"
  },
  "language_info": {
   "codemirror_mode": {
    "name": "ipython",
    "version": 3
   },
   "file_extension": ".py",
   "mimetype": "text/x-python",
   "name": "python",
   "nbconvert_exporter": "python",
   "pygments_lexer": "ipython3",
   "version": "3.12.6"
  }
 },
 "nbformat": 4,
 "nbformat_minor": 5
}
