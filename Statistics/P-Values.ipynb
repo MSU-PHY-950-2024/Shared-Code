{
 "cells": [
  {
   "cell_type": "code",
   "execution_count": 1,
   "id": "6fb3fac6-d48d-4afd-8d6f-e6360fd245a4",
   "metadata": {},
   "outputs": [],
   "source": [
    "import ROOT\n",
    "import numpy as np"
   ]
  },
  {
   "cell_type": "markdown",
   "id": "abb64c12-b794-4a54-977b-4252411d9f33",
   "metadata": {},
   "source": [
    "# Investigating p-values\n",
    "\n",
    "We have already met p-values when learning about the hypothesis test.  We identified two p-values related to the hypothesis test:\n",
    "* The size (or significance) of the hypothesis test is a p-value.  Specifically it's the p-value for the null or H0 hypothesis.  We labeled this $\\alpha$ and also called this the Type-I Error.\n",
    "* The power of the test is related to the p-value  of the alternative hypothesis, $\\beta$, as $P=(1-\\beta)$.  The value $\\beta$ is also the Type-II Error.\n",
    "\n",
    "For the hypothesis test, the p-values listed above are not random.  We fix the size of the test $\\alpha$ to a value of our choosing.  This choice defines the value of $\\beta$, which fixes the power of the test.\n",
    "\n",
    "However, we can also interpret the p-value as a random number associated with the data we might observe in an experiment.  The p-value will take a value between 0 and 1, and we can use the p-value to make a statement about the relative compatibility of the hypothesis that generated the p-value and the data.  We call this \"goodness of fit\".\n",
    "\n",
    "We will explore two examples in this notebook.  The first will be a vanilla Gaussian model.  The second will be a more practical example that should help with context."
   ]
  },
  {
   "cell_type": "code",
   "execution_count": 2,
   "id": "95d64244-e768-415e-bbbf-74b7bd408b77",
   "metadata": {},
   "outputs": [],
   "source": [
    "#Create a random number generator\n",
    "rng = ROOT.TRandom3(11223344)\n",
    "\n",
    "# Model number 1: Gaussian PDF\n",
    "def model1(_rng):\n",
    "    return _rng.Gaus(50,10)\n",
    "\n",
    "# Model number 2: rolling 4 dice\n",
    "def rollDice(rando):\n",
    "    return int(rando*6+0.99)\n",
    "    \n",
    "def model2(_rng):\n",
    "    out = rollDice(_rng.Rndm())\n",
    "    out += rollDice(_rng.Rndm())\n",
    "    out += rollDice(_rng.Rndm())\n",
    "    out += rollDice(_rng.Rndm())\n",
    "    return out"
   ]
  },
  {
   "cell_type": "code",
   "execution_count": 3,
   "id": "3c53dce7-6539-46c1-8590-cb3329833c75",
   "metadata": {},
   "outputs": [],
   "source": [
    "# Histograms\n",
    "modelOneTrials = ROOT.TH1F(\"Model 1\",\"Model 1\",100,0,100)\n",
    "modelTwoTrials = ROOT.TH1F(\"Model 2\",\"Model 2\",24,1,24)\n",
    "\n",
    "# And arrays\n",
    "model1Array = []\n",
    "model2Array = []\n",
    "\n",
    "#Make a bunch of random numbers\n",
    "for i in range(0,10000000):\n",
    "    model1Array.append(model1(rng))\n",
    "    model2Array.append(model2(rng))\n",
    "\n",
    "    modelOneTrials.Fill(model1Array[i])\n",
    "    modelTwoTrials.Fill(model2Array[i])"
   ]
  },
  {
   "cell_type": "code",
   "execution_count": 4,
   "id": "56b42ed2-0f02-48d0-8af9-048c70cb6994",
   "metadata": {},
   "outputs": [
    {
     "data": {
      "image/png": "[encoded data removed]",
      "text/plain": [
       "<IPython.core.display.Image object>"
      ]
     },
     "metadata": {},
     "output_type": "display_data"
    }
   ],
   "source": [
    "# Draw!\n",
    "can1 = ROOT.TCanvas(\"One\",\"One\")\n",
    "can1.Divide(2,1)\n",
    "can1.cd(1)\n",
    "modelOneTrials.Draw()\n",
    "can1.cd(2)\n",
    "modelTwoTrials.Draw()\n",
    "can1.Draw()"
   ]
  },
  {
   "cell_type": "markdown",
   "id": "81748a46-fc86-46ec-8880-cbd10dfa336f",
   "metadata": {},
   "source": [
    "### \n",
    "Random p-values!\n",
    "\n",
    "Let's now draw a random trial from each PDF and evaluate the p-value for that trial.  Recall the definition of a p-value: the probability of an outcome at least as extreme as the one observed.  Our random trial will be our observed outcome.  Thus, to find our p-value we have to decide which direction is \"more extreme\".  This isn't arbitrary and really defines our alternative hypothesis.\n",
    "\n",
    "For example, if we are testing the hypothesis that our Gaussian PDF has a mean value of no more than 50, we would consider extreme to be values larger than 50.  Thus, the integral for the p-value would be from the observed outcome to infinity.\n",
    "\n",
    "And vice versa, if our hypothesis is that the Gaussian PDF has a mean value no less than 50, the p-value integral would be from negative infinity to the observed outcome.\n",
    "\n",
    "For our case, we will make the assumption that a higher value is more extreme and we will integrate from the observed outcome to infinity.\n",
    "\n",
    "Run this cell a few times to get a feeling for how it all works. Refer back to the histograms, as needed."
   ]
  },
  {
   "cell_type": "code",
   "execution_count": 5,
   "id": "51ec98b4-8fb9-493e-aca6-db0ddb1d6783",
   "metadata": {},
   "outputs": [
    {
     "name": "stdout",
     "output_type": "stream",
     "text": [
      "Model 1 outcome:  52.131407768300775\n",
      "Model 2 outcome:  17\n",
      "\n",
      "Model 1 p-value:  0.4154883\n",
      "Model 2 p-value:  0.2360812\n",
      "\n",
      "True Model 1 p-value:  0.4156085799965453\n",
      "\n",
      "Model 1 Z-value:  0.21344921094159144\n",
      "Model 2 Z-value:  0.718965138036883\n",
      "1.0\n"
     ]
    },
    {
     "data": {
      "image/png": "[encoded data removed]",
      "text/plain": [
       "<IPython.core.display.Image object>"
      ]
     },
     "metadata": {},
     "output_type": "display_data"
    }
   ],
   "source": [
    "# Draw a random trial to represent our observed outcome\n",
    "model1outcome = model1(rng)\n",
    "model2outcome = model2(rng)\n",
    "\n",
    "print(\"Model 1 outcome: \",model1outcome)\n",
    "print(\"Model 2 outcome: \",model2outcome)\n",
    "\n",
    "# Calculate p-values!\n",
    "# This is easier to do with a numpy array\n",
    "npArray1 = np.array(model1Array)\n",
    "npArray2 = np.array(model2Array)\n",
    "\n",
    "model1pvalue = (npArray1>=model1outcome).sum()/len(model1Array)\n",
    "model2pvalue = (npArray2>=model2outcome).sum()/len(model2Array)\n",
    "print(\"\\nModel 1 p-value: \",model1pvalue)\n",
    "print(\"Model 2 p-value: \",model2pvalue)\n",
    "\n",
    "# And let's also calculate what we SHOULD get from the Gaussian PDF, for fun\n",
    "print(\"\\nTrue Model 1 p-value: \",1-ROOT.TMath.Freq((model1outcome-50)/10))\n",
    "\n",
    "# And just for fun (lots of fun today!), \n",
    "# let's convert these p-values into quantiles of the Gaussian PDF\n",
    "print(\"\\nModel 1 Z-value: \",ROOT.TMath.NormQuantile(1-model1pvalue))\n",
    "print(\"Model 2 Z-value: \",ROOT.TMath.NormQuantile(1-model2pvalue))\n",
    "\n",
    "# Draw!\n",
    "can2 = ROOT.TCanvas(\"Two\",\"Two\")\n",
    "can2.Divide(2,1)\n",
    "can2.cd(1)\n",
    "modelOneTrials.Draw()\n",
    "l1 = ROOT.TLine(model1outcome,0,model1outcome,modelOneTrials.GetMaximum())\n",
    "l1.SetLineWidth(2)\n",
    "l1.SetLineColor(ROOT.kRed)\n",
    "l1.SetLineStyle(9)\n",
    "l1.Draw(\"same\")\n",
    "can2.cd(2)\n",
    "modelTwoTrials.Draw()\n",
    "l2 = ROOT.TLine(model2outcome,0,model2outcome,modelTwoTrials.GetMaximum())\n",
    "print(modelTwoTrials.GetYaxis().GetXmax())\n",
    "l2.SetLineWidth(2)\n",
    "l2.SetLineColor(ROOT.kRed)\n",
    "l2.SetLineStyle(9)\n",
    "l2.Draw(\"same\")\n",
    "can2.Draw()"
   ]
  },
  {
   "cell_type": "markdown",
   "id": "1955720c-dbcb-41da-b9d6-e9d9ad1f81ac",
   "metadata": {},
   "source": [
    "# PDF of p-values and Z-values?\n",
    "\n",
    "As discussed in the lecture, the PDF for the p-value should be a uniform distribution.  Why? Because if we're truly sampling from the underlying PDF that we're using to calculate p-values, the random samples will follow that PDF and, thus, all values of the cumulative distribution function will be sampled equally.\n",
    "\n",
    "But what about the Z-values?  Let's make the distribution of Z-values and see what we get. "
   ]
  },
  {
   "cell_type": "code",
   "execution_count": 6,
   "id": "4d019b88-8124-4b89-874a-b5ed0f4cdf87",
   "metadata": {},
   "outputs": [
    {
     "data": {
      "image/png": "[encoded data removed]",
      "text/plain": [
       "<IPython.core.display.Image object>"
      ]
     },
     "metadata": {},
     "output_type": "display_data"
    }
   ],
   "source": [
    "# Histograms\n",
    "modelOnePvals = ROOT.TH1F(\"Model 1 p-values\",\"Model 1 p-values\",100,0,1)\n",
    "modelOneZvals = ROOT.TH1F(\"Model 1 Z-values\",\"Model 1 Z-values\",100,-10,10)\n",
    "modelTwoPvals = ROOT.TH1F(\"Model 2 p-values\",\"Model 2 p-values\",100,0,1)\n",
    "modelTwoZvals = ROOT.TH1F(\"Model 2 Z-values\",\"Model 2 Z-values\",100,-10,10)\n",
    "\n",
    "l1 = len(model1Array)\n",
    "l2 = len(model2Array)\n",
    "#Make a bunch of random numbers\n",
    "for i in range(0,100000):\n",
    "    r1 = model1(rng)\n",
    "    p1 = (npArray1>=r1).sum()/l1\n",
    "    modelOnePvals.Fill(p1)\n",
    "    modelOneZvals.Fill(ROOT.TMath.NormQuantile(1-p1))\n",
    "\n",
    "    r2 = model2(rng)\n",
    "    p2 = (npArray2>=r2).sum()/l2\n",
    "    modelTwoPvals.Fill(p2)\n",
    "    modelTwoZvals.Fill(ROOT.TMath.NormQuantile(1-p2))\n",
    "\n",
    "modelOnePvals.GetYaxis().SetRangeUser(0,modelOnePvals.GetMaximum()*1.1)\n",
    "# Draw!\n",
    "can3 = ROOT.TCanvas(\"three\",\"three\")\n",
    "can3.Divide(2,2)\n",
    "can3.cd(1)\n",
    "modelOnePvals.Draw()\n",
    "can3.cd(2)\n",
    "modelTwoPvals.Draw()\n",
    "can3.cd(3)\n",
    "modelOneZvals.Draw()\n",
    "can3.cd(4)\n",
    "modelTwoZvals.Draw()\n",
    "can3.Draw()"
   ]
  }
 ],
 "metadata": {
  "kernelspec": {
   "display_name": "Python 3 (ipykernel)",
   "language": "python",
   "name": "python3"
  },
  "language_info": {
   "codemirror_mode": {
    "name": "ipython",
    "version": 3
   },
   "file_extension": ".py",
   "mimetype": "text/x-python",
   "name": "python",
   "nbconvert_exporter": "python",
   "pygments_lexer": "ipython3",
   "version": "3.12.7"
  }
 },
 "nbformat": 4,
 "nbformat_minor": 5
}
